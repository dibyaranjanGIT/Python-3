{
 "cells": [
  {
   "cell_type": "markdown",
   "id": "54052421",
   "metadata": {},
   "source": [
    "#### In Python, anonymous function means that a function is without a name. As we already know that def keyword is used to define the normal functions and the lambda keyword is used to create anonymous functions"
   ]
  },
  {
   "cell_type": "markdown",
   "id": "e9eed9d0",
   "metadata": {},
   "source": [
    "#### Syntax\n",
    "\n",
    "## lambda arguments : expression "
   ]
  },
  {
   "cell_type": "code",
   "execution_count": null,
   "id": "0d8e3d16",
   "metadata": {},
   "outputs": [],
   "source": []
  },
  {
   "cell_type": "code",
   "execution_count": 3,
   "id": "0f625f0c",
   "metadata": {},
   "outputs": [],
   "source": [
    "def square(x):\n",
    "    return x ** 2"
   ]
  },
  {
   "cell_type": "code",
   "execution_count": 4,
   "id": "5a7860a9",
   "metadata": {},
   "outputs": [
    {
     "data": {
      "text/plain": [
       "<function __main__.<lambda>(x)>"
      ]
     },
     "execution_count": 4,
     "metadata": {},
     "output_type": "execute_result"
    }
   ],
   "source": [
    "lambda x : x ** 2"
   ]
  },
  {
   "cell_type": "code",
   "execution_count": 6,
   "id": "b37ad0dd",
   "metadata": {},
   "outputs": [],
   "source": [
    "## Using map function to see the output"
   ]
  },
  {
   "cell_type": "code",
   "execution_count": 5,
   "id": "c08f6dbf",
   "metadata": {},
   "outputs": [
    {
     "data": {
      "text/plain": [
       "<map at 0x2487fd3e888>"
      ]
     },
     "execution_count": 5,
     "metadata": {},
     "output_type": "execute_result"
    }
   ],
   "source": [
    "map(lambda x: x**2 , [5,2])"
   ]
  },
  {
   "cell_type": "code",
   "execution_count": 7,
   "id": "c2690e61",
   "metadata": {},
   "outputs": [
    {
     "data": {
      "text/plain": [
       "[25, 4]"
      ]
     },
     "execution_count": 7,
     "metadata": {},
     "output_type": "execute_result"
    }
   ],
   "source": [
    "list(map(lambda x: x**2 , [5,2]))"
   ]
  },
  {
   "cell_type": "code",
   "execution_count": 8,
   "id": "eac87cf4",
   "metadata": {},
   "outputs": [
    {
     "data": {
      "text/plain": [
       "<filter at 0x2487fd50588>"
      ]
     },
     "execution_count": 8,
     "metadata": {},
     "output_type": "execute_result"
    }
   ],
   "source": [
    "filter(lambda x: x**2 , [5,2])"
   ]
  },
  {
   "cell_type": "code",
   "execution_count": 11,
   "id": "97018705",
   "metadata": {},
   "outputs": [],
   "source": [
    "# To visualize a quick output for the labmda function"
   ]
  },
  {
   "cell_type": "code",
   "execution_count": 10,
   "id": "3abe94fa",
   "metadata": {},
   "outputs": [
    {
     "data": {
      "text/plain": [
       "10.0"
      ]
     },
     "execution_count": 10,
     "metadata": {},
     "output_type": "execute_result"
    }
   ],
   "source": [
    "(lambda x : x/2 ) (20)"
   ]
  },
  {
   "cell_type": "code",
   "execution_count": 13,
   "id": "eff58b8d",
   "metadata": {},
   "outputs": [],
   "source": [
    "# To pass multiple arguments for the lambda function"
   ]
  },
  {
   "cell_type": "code",
   "execution_count": 14,
   "id": "5961c680",
   "metadata": {},
   "outputs": [
    {
     "data": {
      "text/plain": [
       "<function __main__.<lambda>(x, y)>"
      ]
     },
     "execution_count": 14,
     "metadata": {},
     "output_type": "execute_result"
    }
   ],
   "source": [
    "lambda x,y : x+y"
   ]
  },
  {
   "cell_type": "code",
   "execution_count": 15,
   "id": "b8e17e17",
   "metadata": {},
   "outputs": [
    {
     "data": {
      "text/plain": [
       "30"
      ]
     },
     "execution_count": 15,
     "metadata": {},
     "output_type": "execute_result"
    }
   ],
   "source": [
    "(lambda x,y : x+y) (10,20)"
   ]
  }
 ],
 "metadata": {
  "kernelspec": {
   "display_name": "DL",
   "language": "python",
   "name": "dl"
  },
  "language_info": {
   "codemirror_mode": {
    "name": "ipython",
    "version": 3
   },
   "file_extension": ".py",
   "mimetype": "text/x-python",
   "name": "python",
   "nbconvert_exporter": "python",
   "pygments_lexer": "ipython3",
   "version": "3.7.11"
  }
 },
 "nbformat": 4,
 "nbformat_minor": 5
}
