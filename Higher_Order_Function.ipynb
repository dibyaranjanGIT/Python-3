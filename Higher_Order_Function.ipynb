{
 "cells": [
  {
   "cell_type": "markdown",
   "id": "90dd52d9",
   "metadata": {},
   "source": [
    "## A function is called Higher Order Function if it contains other functions as a parameter or returns a function as an output i.e, the functions that operate with another function are  known as Higher order Functions.\n",
    "\n",
    "## It is worth knowing that this higher order function is applicable for functions and methods as well that takes functions as a parameter or returns a function as a result. Python too supports the concepts of higher order functions."
   ]
  },
  {
   "cell_type": "code",
   "execution_count": null,
   "id": "5542d548",
   "metadata": {},
   "outputs": [],
   "source": []
  },
  {
   "cell_type": "code",
   "execution_count": 1,
   "id": "8021530c",
   "metadata": {},
   "outputs": [],
   "source": [
    "def upper(text): \n",
    "    return text.upper() "
   ]
  },
  {
   "cell_type": "code",
   "execution_count": 3,
   "id": "1fb5e0bc",
   "metadata": {},
   "outputs": [
    {
     "name": "stdout",
     "output_type": "stream",
     "text": [
      "HELLO\n"
     ]
    }
   ],
   "source": [
    "print(upper('hello')) "
   ]
  },
  {
   "cell_type": "code",
   "execution_count": 4,
   "id": "e082720a",
   "metadata": {},
   "outputs": [
    {
     "name": "stdout",
     "output_type": "stream",
     "text": [
      "HELLO\n"
     ]
    }
   ],
   "source": [
    "# Assigning function to a variable\n",
    "yell = upper \n",
    "    \n",
    "print(yell('Hello'))"
   ]
  },
  {
   "cell_type": "code",
   "execution_count": 5,
   "id": "7222c0ac",
   "metadata": {},
   "outputs": [],
   "source": [
    "def lower(text): \n",
    "    return text.lower() "
   ]
  },
  {
   "cell_type": "code",
   "execution_count": 6,
   "id": "18754a65",
   "metadata": {},
   "outputs": [],
   "source": [
    "def greet(func): \n",
    "    # storing the function in a variable \n",
    "    greeting = func(\"Hi, I am created by a function \\\n",
    "    passed as an argument.\") \n",
    "    print(greeting)"
   ]
  },
  {
   "cell_type": "code",
   "execution_count": 7,
   "id": "17e5b312",
   "metadata": {},
   "outputs": [
    {
     "name": "stdout",
     "output_type": "stream",
     "text": [
      "hi, i am created by a function     passed as an argument.\n"
     ]
    }
   ],
   "source": [
    "greet(lower)"
   ]
  },
  {
   "cell_type": "code",
   "execution_count": 8,
   "id": "7937ed55",
   "metadata": {},
   "outputs": [
    {
     "name": "stdout",
     "output_type": "stream",
     "text": [
      "HI, I AM CREATED BY A FUNCTION     PASSED AS AN ARGUMENT.\n"
     ]
    }
   ],
   "source": [
    "greet(upper)"
   ]
  },
  {
   "cell_type": "code",
   "execution_count": 9,
   "id": "7c7fecc6",
   "metadata": {},
   "outputs": [],
   "source": [
    "### One more exapmle"
   ]
  },
  {
   "cell_type": "code",
   "execution_count": 10,
   "id": "64dfe412",
   "metadata": {},
   "outputs": [],
   "source": [
    "def add(a, b):\n",
    "    return a + b"
   ]
  },
  {
   "cell_type": "code",
   "execution_count": 11,
   "id": "6a09f94b",
   "metadata": {},
   "outputs": [],
   "source": [
    "def calculate(a,b, func):\n",
    "    return func(a,b)"
   ]
  },
  {
   "cell_type": "code",
   "execution_count": 15,
   "id": "702ecb29",
   "metadata": {},
   "outputs": [],
   "source": [
    "result = calculate(10,20,add)"
   ]
  },
  {
   "cell_type": "code",
   "execution_count": 16,
   "id": "ec33b1ce",
   "metadata": {},
   "outputs": [
    {
     "name": "stdout",
     "output_type": "stream",
     "text": [
      "30\n"
     ]
    }
   ],
   "source": [
    "print(result)"
   ]
  },
  {
   "cell_type": "code",
   "execution_count": null,
   "id": "3049f642",
   "metadata": {},
   "outputs": [],
   "source": []
  }
 ],
 "metadata": {
  "kernelspec": {
   "display_name": "DL",
   "language": "python",
   "name": "dl"
  },
  "language_info": {
   "codemirror_mode": {
    "name": "ipython",
    "version": 3
   },
   "file_extension": ".py",
   "mimetype": "text/x-python",
   "name": "python",
   "nbconvert_exporter": "python",
   "pygments_lexer": "ipython3",
   "version": "3.7.11"
  }
 },
 "nbformat": 4,
 "nbformat_minor": 5
}
