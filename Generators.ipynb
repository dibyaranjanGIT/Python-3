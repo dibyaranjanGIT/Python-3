{
 "cells": [
  {
   "cell_type": "markdown",
   "id": "47162cea",
   "metadata": {},
   "source": [
    "### A generator-function is defined like a normal function, but whenever it needs to generate a value, it does so with the yield keyword rather than return. \n",
    "\n",
    "### If the body of a def contains yield, the function automatically becomes a generator function"
   ]
  },
  {
   "cell_type": "code",
   "execution_count": 3,
   "id": "3a8f0d9b",
   "metadata": {},
   "outputs": [],
   "source": [
    "def simpleGenerator():\n",
    "    yield 1            \n",
    "    yield 2            \n",
    "    yield 3  "
   ]
  },
  {
   "cell_type": "code",
   "execution_count": 4,
   "id": "797652e6",
   "metadata": {},
   "outputs": [
    {
     "name": "stdout",
     "output_type": "stream",
     "text": [
      "1\n",
      "2\n",
      "3\n"
     ]
    }
   ],
   "source": [
    "for value in simpleGenerator(): \n",
    "    print(value)"
   ]
  },
  {
   "cell_type": "code",
   "execution_count": 6,
   "id": "b9367965",
   "metadata": {},
   "outputs": [
    {
     "name": "stdout",
     "output_type": "stream",
     "text": [
      "0\n"
     ]
    }
   ],
   "source": [
    "def fibonaci():\n",
    "    a, b = 0,1\n",
    "    yield a\n",
    "    a , b = b, a+b\n",
    "\n",
    "for f in fibonaci():\n",
    "    if f > 50:\n",
    "        break\n",
    "    print(f)"
   ]
  },
  {
   "cell_type": "code",
   "execution_count": null,
   "id": "e4e0f3dc",
   "metadata": {},
   "outputs": [],
   "source": []
  }
 ],
 "metadata": {
  "kernelspec": {
   "display_name": "DL",
   "language": "python",
   "name": "dl"
  },
  "language_info": {
   "codemirror_mode": {
    "name": "ipython",
    "version": 3
   },
   "file_extension": ".py",
   "mimetype": "text/x-python",
   "name": "python",
   "nbconvert_exporter": "python",
   "pygments_lexer": "ipython3",
   "version": "3.7.11"
  }
 },
 "nbformat": 4,
 "nbformat_minor": 5
}
