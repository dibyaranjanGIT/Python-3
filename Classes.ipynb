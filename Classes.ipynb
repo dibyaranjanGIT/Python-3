{
 "cells": [
  {
   "cell_type": "markdown",
   "id": "50962382",
   "metadata": {},
   "source": [
    "# Classes\n",
    "### Safe from Bugs \n",
    "    by allowing us to isloate different parts of our code.\n",
    "### Easy to Understand\n",
    "    We can different functionality for our classes \n",
    "### Ready for changes\n",
    "    We can add new functions and new changes to existing classes without modifying the existing functionality"
   ]
  },
  {
   "cell_type": "markdown",
   "id": "0d103272",
   "metadata": {},
   "source": [
    "### ** __init__(self) is a special method it's normally used to initialize our class."
   ]
  },
  {
   "cell_type": "code",
   "execution_count": 1,
   "id": "a563899c",
   "metadata": {},
   "outputs": [],
   "source": [
    "class Polygon():\n",
    "    def __init__(self, sides, name):\n",
    "        self.sides = sides\n",
    "        self.name = name"
   ]
  },
  {
   "cell_type": "markdown",
   "id": "20c1dc0a",
   "metadata": {},
   "source": [
    "### **The __init__ method is a constructor and runs as soon as an object of a class is instantiated. "
   ]
  },
  {
   "cell_type": "code",
   "execution_count": 2,
   "id": "b8bde3f8",
   "metadata": {},
   "outputs": [],
   "source": [
    "square = Polygon(4, \"Square\")"
   ]
  },
  {
   "cell_type": "code",
   "execution_count": 7,
   "id": "f13b68c4",
   "metadata": {},
   "outputs": [
    {
     "name": "stdout",
     "output_type": "stream",
     "text": [
      "Square\n",
      "4\n"
     ]
    }
   ],
   "source": [
    "print(square.name)\n",
    "print(square.sides)"
   ]
  },
  {
   "cell_type": "markdown",
   "id": "7c044e4c",
   "metadata": {},
   "source": [
    "### Defining a class method\n"
   ]
  },
  {
   "cell_type": "code",
   "execution_count": 22,
   "id": "a2800d52",
   "metadata": {},
   "outputs": [],
   "source": [
    "import turtle\n",
    "class Polygon():\n",
    "    def __init__(self, sides, name):\n",
    "        self.sides = sides\n",
    "        self.name = name\n",
    "        \n",
    "    def draw_square(self):\n",
    "        for i in range(self.sides):\n",
    "            turtle.forward(100)\n",
    "            turtle.right(90)\n",
    "        turtle.done()"
   ]
  },
  {
   "cell_type": "code",
   "execution_count": 23,
   "id": "f38956f2",
   "metadata": {},
   "outputs": [],
   "source": [
    "square=Polygon(4,'Square')"
   ]
  },
  {
   "cell_type": "code",
   "execution_count": 24,
   "id": "a3f82ada",
   "metadata": {},
   "outputs": [],
   "source": [
    "square.draw_square()"
   ]
  },
  {
   "cell_type": "markdown",
   "id": "7de5db85",
   "metadata": {},
   "source": [
    "### Passing default parameters"
   ]
  },
  {
   "cell_type": "code",
   "execution_count": 27,
   "id": "efb85fba",
   "metadata": {},
   "outputs": [],
   "source": [
    "import turtle\n",
    "class Polygon():\n",
    "    def __init__(self, sides=4, name='Square'):\n",
    "        self.sides = sides\n",
    "        self.name = name\n",
    "        \n",
    "    def draw_square(self):\n",
    "        for i in range(self.sides):\n",
    "            turtle.forward(100)\n",
    "            turtle.right(90)\n",
    "        turtle.done()"
   ]
  },
  {
   "cell_type": "code",
   "execution_count": 31,
   "id": "8b08d195",
   "metadata": {},
   "outputs": [],
   "source": [
    "new_square=Polygon()"
   ]
  },
  {
   "cell_type": "code",
   "execution_count": 32,
   "id": "83966060",
   "metadata": {},
   "outputs": [],
   "source": [
    "new_square.draw_square()"
   ]
  },
  {
   "cell_type": "markdown",
   "id": "033be0d4",
   "metadata": {},
   "source": [
    "### * self represents the instance of the class. By using the “self” keyword we can access the attributes and methods of the class in python. It binds the attributes with the given arguments"
   ]
  },
  {
   "cell_type": "code",
   "execution_count": null,
   "id": "1de17222",
   "metadata": {},
   "outputs": [],
   "source": []
  },
  {
   "cell_type": "markdown",
   "id": "8c5f7bbe",
   "metadata": {},
   "source": [
    "### Inheritance"
   ]
  },
  {
   "cell_type": "code",
   "execution_count": 37,
   "id": "0d0a47f2",
   "metadata": {},
   "outputs": [],
   "source": [
    "import turtle\n",
    "class Polygon():\n",
    "    def __init__(self, sides, name):\n",
    "        self.sides = sides\n",
    "        self.name = name\n",
    "        \n",
    "    def draw_square(self):\n",
    "        for i in range(self.sides):\n",
    "            turtle.forward(100)\n",
    "            turtle.right(90)\n",
    "        turtle.done()"
   ]
  },
  {
   "cell_type": "code",
   "execution_count": 38,
   "id": "39008bc3",
   "metadata": {},
   "outputs": [],
   "source": [
    "class Square(Polygon):\n",
    "    def __init__(self):\n",
    "        super().__init__(4,\"Square\")"
   ]
  },
  {
   "cell_type": "code",
   "execution_count": 39,
   "id": "af5501da",
   "metadata": {},
   "outputs": [],
   "source": [
    "sqr = Square()"
   ]
  },
  {
   "cell_type": "code",
   "execution_count": 40,
   "id": "16e67cb2",
   "metadata": {},
   "outputs": [],
   "source": [
    "sqr.draw_square()"
   ]
  },
  {
   "cell_type": "code",
   "execution_count": null,
   "id": "d892310b",
   "metadata": {},
   "outputs": [],
   "source": []
  },
  {
   "cell_type": "markdown",
   "id": "b6b56081",
   "metadata": {},
   "source": [
    "### Method overriding "
   ]
  },
  {
   "cell_type": "code",
   "execution_count": 41,
   "id": "74e4670b",
   "metadata": {},
   "outputs": [],
   "source": [
    "import turtle\n",
    "class Polygon():\n",
    "    def __init__(self, sides, name):\n",
    "        self.sides = sides\n",
    "        self.name = name\n",
    "        \n",
    "    def draw_square(self):\n",
    "        for i in range(self.sides):\n",
    "            turtle.forward(100)\n",
    "            turtle.right(90)\n",
    "        turtle.done()"
   ]
  },
  {
   "cell_type": "code",
   "execution_count": 52,
   "id": "42387a1a",
   "metadata": {},
   "outputs": [],
   "source": [
    "class Square(Polygon):\n",
    "    def __init__(self,sides):\n",
    "        super().__init__(4,\"Square\")\n",
    "        self.sides = sides\n",
    "        \n",
    "    def draw_square(self):  ## Method overriding\n",
    "        for i in range(self.sides):\n",
    "            turtle.forward(200)\n",
    "            turtle.right(90)\n",
    "        turtle.done()"
   ]
  },
  {
   "cell_type": "code",
   "execution_count": 53,
   "id": "f786c613",
   "metadata": {},
   "outputs": [],
   "source": [
    "sqr=Square(4)\n",
    "sqr.draw_square()"
   ]
  },
  {
   "cell_type": "markdown",
   "id": "dc45b591",
   "metadata": {},
   "source": [
    "### Polymorphism in Python"
   ]
  },
  {
   "cell_type": "markdown",
   "id": "3300094f",
   "metadata": {},
   "source": [
    "Polymorphism means having many forms. In programming, polymorphism means the same function name (but different signatures) being used for different types."
   ]
  },
  {
   "cell_type": "code",
   "execution_count": 63,
   "id": "ca8c2e0e",
   "metadata": {},
   "outputs": [],
   "source": [
    "class India():\n",
    "    def capital(self):\n",
    "        print(\"India's capital is New Delhi\")\n",
    "    def population(self):\n",
    "        print(\"Indias population is 1.3 billion\")"
   ]
  },
  {
   "cell_type": "code",
   "execution_count": 64,
   "id": "c73db464",
   "metadata": {},
   "outputs": [],
   "source": [
    "class USA():\n",
    "    def capital(self):\n",
    "        print(\"USA's capital is Washington, D.C.\")\n",
    "    def population(self):\n",
    "        print(\"Indias population is 330 million\")"
   ]
  },
  {
   "cell_type": "code",
   "execution_count": 65,
   "id": "5d7cd9fd",
   "metadata": {},
   "outputs": [],
   "source": [
    "a = India()\n",
    "b = USA()"
   ]
  },
  {
   "cell_type": "code",
   "execution_count": 67,
   "id": "dce9ebf9",
   "metadata": {},
   "outputs": [
    {
     "name": "stdout",
     "output_type": "stream",
     "text": [
      "India's capital is New Delhi\n",
      "USA's capital is Washington, D.C.\n"
     ]
    }
   ],
   "source": [
    "for country in (a,b):\n",
    "    country.capital()"
   ]
  },
  {
   "cell_type": "code",
   "execution_count": null,
   "id": "d9f05bea",
   "metadata": {},
   "outputs": [],
   "source": []
  },
  {
   "cell_type": "markdown",
   "id": "b975174b",
   "metadata": {},
   "source": [
    "### * Operator overloading in Python is the ability of a single operator to perform more than one operation based on the class (type) of operands. For example, the + operator can be used to add two numbers, concatenate two strings or merge two lists."
   ]
  },
  {
   "cell_type": "code",
   "execution_count": 68,
   "id": "429253a2",
   "metadata": {},
   "outputs": [],
   "source": [
    "### Access the below link to understand more about the Encapsulation , Private and Protected in python"
   ]
  },
  {
   "cell_type": "markdown",
   "id": "96ac8819",
   "metadata": {},
   "source": [
    "https://www.geeksforgeeks.org/encapsulation-in-python/?ref=lbp"
   ]
  },
  {
   "cell_type": "code",
   "execution_count": null,
   "id": "a46ce405",
   "metadata": {},
   "outputs": [],
   "source": []
  },
  {
   "cell_type": "code",
   "execution_count": null,
   "id": "dbf07381",
   "metadata": {},
   "outputs": [],
   "source": []
  }
 ],
 "metadata": {
  "kernelspec": {
   "display_name": "DL",
   "language": "python",
   "name": "dl"
  },
  "language_info": {
   "codemirror_mode": {
    "name": "ipython",
    "version": 3
   },
   "file_extension": ".py",
   "mimetype": "text/x-python",
   "name": "python",
   "nbconvert_exporter": "python",
   "pygments_lexer": "ipython3",
   "version": "3.7.11"
  }
 },
 "nbformat": 4,
 "nbformat_minor": 5
}
