{
 "cells": [
  {
   "cell_type": "markdown",
   "id": "2a87e84d",
   "metadata": {},
   "source": [
    "Levels of Log Message\n",
    "There are five built-in levels of the log message.  \n",
    "\n",
    "* Debug : These are used to give Detailed information, typically of interest only when diagnosing problems.\n",
    "* Info : These are used to confirm that things are working as expected\n",
    "* Warning : These are used an indication that something unexpected happened, or is indicative of some problem in the near future\n",
    "* Error : This tells that due to a more serious problem, the software has not been able to perform some function\n",
    "* Critical : This tells serious error, indicating that the program itself may be unable to continue running"
   ]
  },
  {
   "cell_type": "markdown",
   "id": "2c6f606a",
   "metadata": {},
   "source": [
    "Basics of using the logging module to record the events in a file are very simple. \n",
    "\n",
    "For that, simply import the module from the library.  \n",
    "\n",
    "* Create and configure the logger. It can have several parameters. But importantly, pass the name of the file in which you want to record the events.\n",
    "* Here the format of the logger can also be set. By default, the file works in append mode but we can change that to write mode if required.\n",
    "* Also, the level of the logger can be set which acts as the threshold for tracking based on the numeric values assigned to each level. \n",
    "* There are several attributes which can be passed as parameters.\n",
    "* The list of all those parameters is given in \"https://docs.python.org/3/library/logging.html#logrecord-attributes\". The user can choose the required attribute according to the requirement.\n",
    "* After that, create an object and use the various methods as shown in the example."
   ]
  },
  {
   "cell_type": "code",
   "execution_count": 1,
   "id": "63212843",
   "metadata": {},
   "outputs": [],
   "source": [
    "import logging"
   ]
  },
  {
   "cell_type": "code",
   "execution_count": 2,
   "id": "85431e9a",
   "metadata": {},
   "outputs": [],
   "source": [
    "logging.basicConfig(filename=\"newfile.log\",\n",
    "                    format='%(asctime)s %(message)s',\n",
    "                    filemode='w')"
   ]
  },
  {
   "cell_type": "code",
   "execution_count": 3,
   "id": "bb0a2bd6",
   "metadata": {},
   "outputs": [],
   "source": [
    "# Creating an object\n",
    "logger = logging.getLogger()"
   ]
  },
  {
   "cell_type": "code",
   "execution_count": 4,
   "id": "fb5dc5e1",
   "metadata": {},
   "outputs": [],
   "source": [
    "# Test messages\n",
    "logger.debug(\"Harmless debug Message\")\n",
    "logger.info(\"Just an information\")\n",
    "logger.warning(\"Its a Warning\")\n",
    "logger.error(\"Did you try to divide by zero\")\n",
    "logger.critical(\"Internet is down\")"
   ]
  },
  {
   "cell_type": "code",
   "execution_count": null,
   "id": "5dab824f",
   "metadata": {},
   "outputs": [],
   "source": []
  }
 ],
 "metadata": {
  "kernelspec": {
   "display_name": "DL",
   "language": "python",
   "name": "dl"
  },
  "language_info": {
   "codemirror_mode": {
    "name": "ipython",
    "version": 3
   },
   "file_extension": ".py",
   "mimetype": "text/x-python",
   "name": "python",
   "nbconvert_exporter": "python",
   "pygments_lexer": "ipython3",
   "version": "3.7.11"
  }
 },
 "nbformat": 4,
 "nbformat_minor": 5
}
