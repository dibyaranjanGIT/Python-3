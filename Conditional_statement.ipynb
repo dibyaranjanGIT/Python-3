{
 "cells": [
  {
   "cell_type": "markdown",
   "id": "84977ac5",
   "metadata": {},
   "source": [
    "### If statement"
   ]
  },
  {
   "cell_type": "code",
   "execution_count": 2,
   "id": "0d99e740",
   "metadata": {},
   "outputs": [],
   "source": [
    "grade = 90\n",
    "\n",
    "if grade < 90:\n",
    "    print(\"Failed\")"
   ]
  },
  {
   "cell_type": "markdown",
   "id": "caf03014",
   "metadata": {},
   "source": [
    "### If - Else statement"
   ]
  },
  {
   "cell_type": "code",
   "execution_count": 7,
   "id": "01aa1be9",
   "metadata": {},
   "outputs": [
    {
     "name": "stdout",
     "output_type": "stream",
     "text": [
      "You have scored very good marks !\n"
     ]
    }
   ],
   "source": [
    "grade = 90\n",
    "\n",
    "if grade < 50:\n",
    "    print(\"Failed\")\n",
    "elif grade <70:\n",
    "    print(\"Try for better !\")\n",
    "else:\n",
    "    print(\"You have scored very good marks !\")"
   ]
  },
  {
   "cell_type": "markdown",
   "id": "c567f495",
   "metadata": {},
   "source": [
    "Remember the below operators"
   ]
  },
  {
   "cell_type": "code",
   "execution_count": 9,
   "id": "c8dea7a9",
   "metadata": {},
   "outputs": [],
   "source": [
    "###  ==   >=    <=    !="
   ]
  },
  {
   "cell_type": "markdown",
   "id": "3afa0ffc",
   "metadata": {},
   "source": [
    "### If Else wtih AND , OR "
   ]
  },
  {
   "cell_type": "code",
   "execution_count": 14,
   "id": "e23db68e",
   "metadata": {},
   "outputs": [
    {
     "name": "stdout",
     "output_type": "stream",
     "text": [
      "You have scored very good marks !\n"
     ]
    }
   ],
   "source": [
    "grade = 90\n",
    "\n",
    "if (grade > 0 and grade < 50 ):\n",
    "    print(\"Failed\")\n",
    "else:\n",
    "    print(\"You have scored very good marks !\")"
   ]
  },
  {
   "cell_type": "markdown",
   "id": "28d1f255",
   "metadata": {},
   "source": [
    "### For statement"
   ]
  },
  {
   "cell_type": "code",
   "execution_count": 15,
   "id": "af66ef3f",
   "metadata": {},
   "outputs": [
    {
     "name": "stdout",
     "output_type": "stream",
     "text": [
      "D\n",
      "i\n",
      "b\n",
      "y\n",
      "a\n",
      "r\n",
      "a\n",
      "n\n",
      "j\n",
      "a\n",
      "n\n"
     ]
    }
   ],
   "source": [
    "name = 'Dibyaranjan'\n",
    "for char in name:\n",
    "    print(char)"
   ]
  },
  {
   "cell_type": "markdown",
   "id": "1568dcf8",
   "metadata": {},
   "source": [
    "### While statement"
   ]
  },
  {
   "cell_type": "code",
   "execution_count": 16,
   "id": "0bfd209d",
   "metadata": {},
   "outputs": [
    {
     "name": "stdout",
     "output_type": "stream",
     "text": [
      "It On\n",
      "It On\n",
      "It On\n",
      "It On\n",
      "It On\n",
      "It On\n",
      "It On\n",
      "It On\n",
      "It On\n",
      "It On\n",
      "It On\n"
     ]
    }
   ],
   "source": [
    "game_on = True\n",
    "temp = 0\n",
    "\n",
    "while game_on:\n",
    "    print('It On')\n",
    "    temp += 1\n",
    "    if temp > 10:\n",
    "        break"
   ]
  },
  {
   "cell_type": "code",
   "execution_count": null,
   "id": "3215c952",
   "metadata": {},
   "outputs": [],
   "source": []
  },
  {
   "cell_type": "code",
   "execution_count": null,
   "id": "4e93c946",
   "metadata": {},
   "outputs": [],
   "source": []
  }
 ],
 "metadata": {
  "kernelspec": {
   "display_name": "DL",
   "language": "python",
   "name": "dl"
  },
  "language_info": {
   "codemirror_mode": {
    "name": "ipython",
    "version": 3
   },
   "file_extension": ".py",
   "mimetype": "text/x-python",
   "name": "python",
   "nbconvert_exporter": "python",
   "pygments_lexer": "ipython3",
   "version": "3.7.11"
  }
 },
 "nbformat": 4,
 "nbformat_minor": 5
}
