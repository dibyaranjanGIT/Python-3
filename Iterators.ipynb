{
 "cells": [
  {
   "cell_type": "code",
   "execution_count": 1,
   "id": "a51c6f11",
   "metadata": {},
   "outputs": [],
   "source": [
    "intro = \"hello my name is Dibyaranjan\""
   ]
  },
  {
   "cell_type": "code",
   "execution_count": 3,
   "id": "0bc47314",
   "metadata": {},
   "outputs": [],
   "source": [
    "intro = intro.split()"
   ]
  },
  {
   "cell_type": "code",
   "execution_count": 4,
   "id": "a8d3d0e2",
   "metadata": {},
   "outputs": [
    {
     "data": {
      "text/plain": [
       "['hello', 'my', 'name', 'is', 'Dibyaranjan']"
      ]
     },
     "execution_count": 4,
     "metadata": {},
     "output_type": "execute_result"
    }
   ],
   "source": [
    "intro"
   ]
  },
  {
   "cell_type": "code",
   "execution_count": 5,
   "id": "759a722f",
   "metadata": {},
   "outputs": [
    {
     "name": "stdout",
     "output_type": "stream",
     "text": [
      "hello\n",
      "my\n",
      "name\n",
      "is\n",
      "Dibyaranjan\n"
     ]
    }
   ],
   "source": [
    "for items in intro:\n",
    "    print(items)"
   ]
  },
  {
   "cell_type": "code",
   "execution_count": 7,
   "id": "ef47af91",
   "metadata": {},
   "outputs": [
    {
     "name": "stdout",
     "output_type": "stream",
     "text": [
      "['__add__', '__class__', '__contains__', '__delattr__', '__delitem__', '__dir__', '__doc__', '__eq__', '__format__', '__ge__', '__getattribute__', '__getitem__', '__gt__', '__hash__', '__iadd__', '__imul__', '__init__', '__init_subclass__', '__iter__', '__le__', '__len__', '__lt__', '__mul__', '__ne__', '__new__', '__reduce__', '__reduce_ex__', '__repr__', '__reversed__', '__rmul__', '__setattr__', '__setitem__', '__sizeof__', '__str__', '__subclasshook__', 'append', 'clear', 'copy', 'count', 'extend', 'index', 'insert', 'pop', 'remove', 'reverse', 'sort']\n"
     ]
    }
   ],
   "source": [
    "print(dir(intro))"
   ]
  },
  {
   "cell_type": "code",
   "execution_count": 9,
   "id": "c967b0b9",
   "metadata": {},
   "outputs": [],
   "source": [
    "intro_iter = iter(intro)"
   ]
  },
  {
   "cell_type": "code",
   "execution_count": 12,
   "id": "1a020b49",
   "metadata": {},
   "outputs": [
    {
     "data": {
      "text/plain": [
       "'hello'"
      ]
     },
     "execution_count": 12,
     "metadata": {},
     "output_type": "execute_result"
    }
   ],
   "source": [
    "next(intro_iter)"
   ]
  },
  {
   "cell_type": "code",
   "execution_count": 13,
   "id": "7382395e",
   "metadata": {},
   "outputs": [
    {
     "data": {
      "text/plain": [
       "'my'"
      ]
     },
     "execution_count": 13,
     "metadata": {},
     "output_type": "execute_result"
    }
   ],
   "source": [
    "next(intro_iter)"
   ]
  },
  {
   "cell_type": "code",
   "execution_count": 15,
   "id": "8eca59e9",
   "metadata": {},
   "outputs": [],
   "source": [
    "class Remote():\n",
    "    def __init__(self):\n",
    "        self.channels = [\"OTv\",\"Prathana\",\"Tarang\"]\n",
    "        self.index = -1\n",
    "    def __iter__(self):\n",
    "        return self\n",
    "    def __next__(self):\n",
    "        self.index += 1\n",
    "        if self.index == len(self.channels):\n",
    "            raise StopIteration\n",
    "        return self.channels[self.index]"
   ]
  },
  {
   "cell_type": "code",
   "execution_count": 16,
   "id": "7cd1d9d4",
   "metadata": {},
   "outputs": [],
   "source": [
    "remote = Remote()"
   ]
  },
  {
   "cell_type": "code",
   "execution_count": 17,
   "id": "a2892c86",
   "metadata": {},
   "outputs": [
    {
     "data": {
      "text/plain": [
       "'OTv'"
      ]
     },
     "execution_count": 17,
     "metadata": {},
     "output_type": "execute_result"
    }
   ],
   "source": [
    "next(remote)"
   ]
  },
  {
   "cell_type": "code",
   "execution_count": 18,
   "id": "ec35baae",
   "metadata": {},
   "outputs": [
    {
     "data": {
      "text/plain": [
       "'Prathana'"
      ]
     },
     "execution_count": 18,
     "metadata": {},
     "output_type": "execute_result"
    }
   ],
   "source": [
    "next(remote)"
   ]
  },
  {
   "cell_type": "code",
   "execution_count": null,
   "id": "85dae2d5",
   "metadata": {},
   "outputs": [],
   "source": []
  }
 ],
 "metadata": {
  "kernelspec": {
   "display_name": "DL",
   "language": "python",
   "name": "dl"
  },
  "language_info": {
   "codemirror_mode": {
    "name": "ipython",
    "version": 3
   },
   "file_extension": ".py",
   "mimetype": "text/x-python",
   "name": "python",
   "nbconvert_exporter": "python",
   "pygments_lexer": "ipython3",
   "version": "3.7.11"
  }
 },
 "nbformat": 4,
 "nbformat_minor": 5
}
