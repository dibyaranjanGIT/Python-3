{
 "cells": [
  {
   "cell_type": "code",
   "execution_count": 1,
   "id": "75381f8d",
   "metadata": {},
   "outputs": [],
   "source": [
    "data = {}\n",
    "\n",
    "data[\"tom\"] = {\n",
    "    'name':'tom',\n",
    "    'address':'1 street red'\n",
    "}\n",
    "\n",
    "data[\"mindy\"] = {\n",
    "    'name':'mindy',\n",
    "    'address':'1 street blue'\n",
    "}"
   ]
  },
  {
   "cell_type": "code",
   "execution_count": 2,
   "id": "4eb921c9",
   "metadata": {},
   "outputs": [],
   "source": [
    "import json"
   ]
  },
  {
   "cell_type": "code",
   "execution_count": 9,
   "id": "a3589665",
   "metadata": {},
   "outputs": [],
   "source": [
    "s = json.dumps(data)"
   ]
  },
  {
   "cell_type": "code",
   "execution_count": 10,
   "id": "ae492eb4",
   "metadata": {},
   "outputs": [
    {
     "name": "stdout",
     "output_type": "stream",
     "text": [
      "{\"tom\": {\"name\": \"tom\", \"address\": \"1 street red\"}, \"mindy\": {\"name\": \"mindy\", \"address\": \"1 street blue\"}}\n"
     ]
    }
   ],
   "source": [
    "print(s)"
   ]
  },
  {
   "cell_type": "code",
   "execution_count": 15,
   "id": "0d6dcc82",
   "metadata": {},
   "outputs": [],
   "source": [
    "data = {\n",
    "  \"name\": \"John\",\n",
    "  \"age\": 30,\n",
    "  \"married\": True,\n",
    "  \"divorced\": False,\n",
    "  \"children\": (\"Ann\",\"Billy\"),\n",
    "  \"pets\": None,\n",
    "  \"cars\": [\n",
    "    {\"model\": \"BMW 230\", \"mpg\": 27.5},\n",
    "    {\"model\": \"Ford Edge\", \"mpg\": 24.1}\n",
    "  ]\n",
    "}\n",
    "\n",
    "x = json.dumps(data)"
   ]
  },
  {
   "cell_type": "code",
   "execution_count": 28,
   "id": "ff6920cc",
   "metadata": {},
   "outputs": [],
   "source": [
    "with open('data.txt',mode='w') as file:\n",
    "    file.write(x)"
   ]
  },
  {
   "cell_type": "code",
   "execution_count": 20,
   "id": "a0d5c806",
   "metadata": {},
   "outputs": [
    {
     "name": "stdout",
     "output_type": "stream",
     "text": [
      "{\"name\": \"John\", \"age\": 30, \"married\": true, \"divorced\": false, \"children\": [\"Ann\", \"Billy\"], \"pets\": null, \"cars\": [{\"model\": \"BMW 230\", \"mpg\": 27.5}, {\"model\": \"Ford Edge\", \"mpg\": 24.1}]}\n"
     ]
    }
   ],
   "source": [
    "print(x)"
   ]
  },
  {
   "cell_type": "code",
   "execution_count": 29,
   "id": "fdf0ad14",
   "metadata": {},
   "outputs": [],
   "source": [
    "f = open('data.txt',mode='r')\n",
    "s = f.read()"
   ]
  },
  {
   "cell_type": "code",
   "execution_count": 30,
   "id": "8b9ae5dc",
   "metadata": {},
   "outputs": [],
   "source": [
    "y = json.loads(s)"
   ]
  },
  {
   "cell_type": "code",
   "execution_count": 31,
   "id": "4ae333de",
   "metadata": {},
   "outputs": [
    {
     "name": "stdout",
     "output_type": "stream",
     "text": [
      "{'name': 'John', 'age': 30, 'married': True, 'divorced': False, 'children': ['Ann', 'Billy'], 'pets': None, 'cars': [{'model': 'BMW 230', 'mpg': 27.5}, {'model': 'Ford Edge', 'mpg': 24.1}]}\n"
     ]
    }
   ],
   "source": [
    "print(y)"
   ]
  },
  {
   "cell_type": "code",
   "execution_count": null,
   "id": "367fe6b7",
   "metadata": {},
   "outputs": [],
   "source": []
  }
 ],
 "metadata": {
  "kernelspec": {
   "display_name": "DL",
   "language": "python",
   "name": "dl"
  },
  "language_info": {
   "codemirror_mode": {
    "name": "ipython",
    "version": 3
   },
   "file_extension": ".py",
   "mimetype": "text/x-python",
   "name": "python",
   "nbconvert_exporter": "python",
   "pygments_lexer": "ipython3",
   "version": "3.7.11"
  }
 },
 "nbformat": 4,
 "nbformat_minor": 5
}
