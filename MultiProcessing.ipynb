{
 "cells": [
  {
   "cell_type": "markdown",
   "id": "1b17241a",
   "metadata": {},
   "source": [
    "Multiprocessing refers to the ability of a system to support more than one processor at the same time. Applications in a multiprocessing system are broken to smaller routines that run independently. The operating system allocates these threads to the processors improving performance of the system"
   ]
  },
  {
   "cell_type": "code",
   "execution_count": 8,
   "id": "8714533f",
   "metadata": {},
   "outputs": [],
   "source": [
    "def calc_square(numbers):\n",
    "    for i in numbers:\n",
    "        square = i * i\n",
    "        print(square)\n",
    "    \n",
    "def calc_cube(numbers):\n",
    "    for i in numbers:\n",
    "        cube = i * i * i\n",
    "        print(cube)"
   ]
  },
  {
   "cell_type": "code",
   "execution_count": 9,
   "id": "3e98ead3",
   "metadata": {},
   "outputs": [],
   "source": [
    "numbers = [1,2,5,4,6]"
   ]
  },
  {
   "cell_type": "code",
   "execution_count": 12,
   "id": "4b249276",
   "metadata": {},
   "outputs": [
    {
     "name": "stdout",
     "output_type": "stream",
     "text": [
      "1\n",
      "8\n",
      "125\n",
      "64\n",
      "216\n"
     ]
    }
   ],
   "source": [
    "calc_cube(numbers)"
   ]
  },
  {
   "cell_type": "code",
   "execution_count": 16,
   "id": "5ea7b49f",
   "metadata": {},
   "outputs": [
    {
     "name": "stdout",
     "output_type": "stream",
     "text": [
      "Done!\n"
     ]
    }
   ],
   "source": [
    "import multiprocessing\n",
    "numbers = [1,2,5,4,6]\n",
    "\n",
    "if __name__ == \"__main__\":\n",
    "    # creating processes\n",
    "    p1 = multiprocessing.Process(target=calc_square, args=(numbers, ))\n",
    "    p2 = multiprocessing.Process(target=calc_cube, args=(numbers, ))\n",
    "  \n",
    "    # starting process 1\n",
    "    p1.start()\n",
    "    # starting process 2\n",
    "    p2.start()\n",
    "  \n",
    "    # wait until process 1 is finished\n",
    "    p1.join()\n",
    "    # wait until process 2 is finished\n",
    "    p2.join()\n",
    "  \n",
    "    # both processes finished\n",
    "    print(\"Done!\")"
   ]
  },
  {
   "cell_type": "code",
   "execution_count": null,
   "id": "31b68f42",
   "metadata": {},
   "outputs": [],
   "source": []
  }
 ],
 "metadata": {
  "kernelspec": {
   "display_name": "DL",
   "language": "python",
   "name": "dl"
  },
  "language_info": {
   "codemirror_mode": {
    "name": "ipython",
    "version": 3
   },
   "file_extension": ".py",
   "mimetype": "text/x-python",
   "name": "python",
   "nbconvert_exporter": "python",
   "pygments_lexer": "ipython3",
   "version": "3.7.11"
  }
 },
 "nbformat": 4,
 "nbformat_minor": 5
}
