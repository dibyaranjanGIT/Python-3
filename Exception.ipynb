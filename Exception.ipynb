{
 "cells": [
  {
   "cell_type": "code",
   "execution_count": 1,
   "id": "3b683448",
   "metadata": {},
   "outputs": [
    {
     "name": "stdout",
     "output_type": "stream",
     "text": [
      "Provide a number of your choice: sdf\n",
      "Please provide the correct type\n"
     ]
    }
   ],
   "source": [
    "try:\n",
    "    x=int(input('Provide a number of your choice: '))\n",
    "except:\n",
    "    print('Please provide the correct type')"
   ]
  },
  {
   "cell_type": "code",
   "execution_count": 2,
   "id": "b3ec789c",
   "metadata": {},
   "outputs": [
    {
     "name": "stdout",
     "output_type": "stream",
     "text": [
      "Provide a number of your choice: dfd\n",
      "Please provide the correct type\n"
     ]
    }
   ],
   "source": [
    "try:\n",
    "    x=int(input('Provide a number of your choice: '))\n",
    "except Exception as e:\n",
    "    print('Please provide the correct type')"
   ]
  },
  {
   "cell_type": "markdown",
   "id": "4d7db9f7",
   "metadata": {},
   "source": [
    "#### * How to raise your own Exception"
   ]
  },
  {
   "cell_type": "code",
   "execution_count": 3,
   "id": "a9f1faba",
   "metadata": {},
   "outputs": [],
   "source": [
    "class MyError(Exception):\n",
    "\n",
    "    def __init__(self, value):\n",
    "        self.value = value\n",
    " \n",
    "    def __str__(self):\n",
    "        return(repr(self.value))"
   ]
  },
  {
   "cell_type": "code",
   "execution_count": 4,
   "id": "890970da",
   "metadata": {},
   "outputs": [
    {
     "name": "stdout",
     "output_type": "stream",
     "text": [
      "A New Exception occured:  6\n"
     ]
    }
   ],
   "source": [
    "try:\n",
    "    raise(MyError(3*2))\n",
    "    \n",
    "except MyError as error:\n",
    "    print('A New Exception occured: ',error.value)"
   ]
  },
  {
   "cell_type": "code",
   "execution_count": null,
   "id": "091ee43a",
   "metadata": {},
   "outputs": [],
   "source": []
  }
 ],
 "metadata": {
  "kernelspec": {
   "display_name": "DL",
   "language": "python",
   "name": "dl"
  },
  "language_info": {
   "codemirror_mode": {
    "name": "ipython",
    "version": 3
   },
   "file_extension": ".py",
   "mimetype": "text/x-python",
   "name": "python",
   "nbconvert_exporter": "python",
   "pygments_lexer": "ipython3",
   "version": "3.7.11"
  }
 },
 "nbformat": 4,
 "nbformat_minor": 5
}
