{
 "cells": [
  {
   "cell_type": "code",
   "execution_count": 1,
   "id": "8693b882",
   "metadata": {},
   "outputs": [],
   "source": [
    "import turtle"
   ]
  },
  {
   "cell_type": "code",
   "execution_count": 1,
   "id": "931309de",
   "metadata": {},
   "outputs": [],
   "source": [
    "def my_details():\n",
    "    print('Name is Dibyaranjan')\n",
    "    print('Personal number is 709480****')"
   ]
  },
  {
   "cell_type": "code",
   "execution_count": 2,
   "id": "839a7ba3",
   "metadata": {},
   "outputs": [
    {
     "name": "stdout",
     "output_type": "stream",
     "text": [
      "Name is Dibyaranjan\n",
      "Personal number is 709480****\n"
     ]
    }
   ],
   "source": [
    "my_details()"
   ]
  },
  {
   "cell_type": "markdown",
   "id": "99607556",
   "metadata": {},
   "source": [
    "#### Calling a function with parameter"
   ]
  },
  {
   "cell_type": "code",
   "execution_count": 4,
   "id": "2e9951b6",
   "metadata": {},
   "outputs": [],
   "source": [
    "def my_details(name : str()):\n",
    "    print(f'Name is {name}')\n",
    "    print('Personal number is 709480****')"
   ]
  },
  {
   "cell_type": "code",
   "execution_count": 5,
   "id": "f5736f62",
   "metadata": {},
   "outputs": [
    {
     "name": "stdout",
     "output_type": "stream",
     "text": [
      "Name is Dibyaranjan\n",
      "Personal number is 709480****\n"
     ]
    }
   ],
   "source": [
    "my_details('Dibyaranjan')"
   ]
  },
  {
   "cell_type": "code",
   "execution_count": 6,
   "id": "5d0e7807",
   "metadata": {},
   "outputs": [],
   "source": [
    "def my_details(name : int):\n",
    "    print(f'Name is {name}')\n",
    "    print('Personal number is 709480****')"
   ]
  },
  {
   "cell_type": "markdown",
   "id": "31572c1c",
   "metadata": {},
   "source": [
    "#### Defining a function with DOC string"
   ]
  },
  {
   "cell_type": "code",
   "execution_count": 8,
   "id": "38f375d2",
   "metadata": {},
   "outputs": [],
   "source": [
    "def my_details(name : int):\n",
    "    '''\n",
    "    This function prints my personal details\n",
    "    '''\n",
    "    print(f'Name is {name}')\n",
    "    print('Personal number is 709480****')"
   ]
  },
  {
   "cell_type": "markdown",
   "id": "f7c49b9c",
   "metadata": {},
   "source": [
    "When you press shift tab then you can see the details of the function"
   ]
  },
  {
   "attachments": {
    "image.png": {
     "image/png": "[encoded data removed]"
    }
   },
   "cell_type": "markdown",
   "id": "a25990b2",
   "metadata": {},
   "source": [
    "![image.png](attachment:image.png)"
   ]
  },
  {
   "cell_type": "markdown",
   "id": "9c158541",
   "metadata": {},
   "source": [
    "#### How do you define the **args and **kwargs "
   ]
  },
  {
   "cell_type": "code",
   "execution_count": 10,
   "id": "0ea71db6",
   "metadata": {},
   "outputs": [],
   "source": [
    "def my_details(*args):\n",
    "    print(f'Name is {args[0]}')\n",
    "    print(f'Personal number is {args[1]}')"
   ]
  },
  {
   "cell_type": "code",
   "execution_count": 11,
   "id": "e73a9a99",
   "metadata": {},
   "outputs": [
    {
     "name": "stdout",
     "output_type": "stream",
     "text": [
      "Name is Dibyaranjan\n",
      "Personal number is 709480****\n"
     ]
    }
   ],
   "source": [
    "my_details('Dibyaranjan','709480****')"
   ]
  },
  {
   "cell_type": "code",
   "execution_count": 23,
   "id": "0adf27de",
   "metadata": {},
   "outputs": [],
   "source": [
    "def addition(*args):\n",
    "    for items in range(len(args)):\n",
    "        print(args[items])"
   ]
  },
  {
   "cell_type": "code",
   "execution_count": 24,
   "id": "f359d119",
   "metadata": {},
   "outputs": [
    {
     "name": "stdout",
     "output_type": "stream",
     "text": [
      "1\n",
      "2\n",
      "3\n"
     ]
    }
   ],
   "source": [
    "addition(1,2,3)"
   ]
  },
  {
   "cell_type": "code",
   "execution_count": 35,
   "id": "c6388e59",
   "metadata": {},
   "outputs": [],
   "source": [
    "def my_details(**kwargs):\n",
    "    for key, value in kwargs.items():\n",
    "        print(f\"My details are {value}\")"
   ]
  },
  {
   "cell_type": "code",
   "execution_count": 36,
   "id": "899b6486",
   "metadata": {},
   "outputs": [
    {
     "name": "stdout",
     "output_type": "stream",
     "text": [
      "My details are Dibyaranjan\n",
      "My details are 709480****\n"
     ]
    }
   ],
   "source": [
    "my_details(name='Dibyaranjan',Telephone='709480****')"
   ]
  },
  {
   "cell_type": "markdown",
   "id": "ff403de2",
   "metadata": {},
   "source": [
    "### Map() in python"
   ]
  },
  {
   "cell_type": "markdown",
   "id": "aa417946",
   "metadata": {},
   "source": [
    "map() function returns a map object(which is an iterator) of the results after applying the given function to each item of a given iterable (list, tuple etc.)\n",
    "\n",
    "map(fun, iter)"
   ]
  },
  {
   "cell_type": "code",
   "execution_count": 25,
   "id": "c5b821da",
   "metadata": {},
   "outputs": [],
   "source": [
    "def addition(n):\n",
    "    return n+n"
   ]
  },
  {
   "cell_type": "code",
   "execution_count": 27,
   "id": "9399476a",
   "metadata": {},
   "outputs": [],
   "source": [
    "numbers = [12,23,45]"
   ]
  },
  {
   "cell_type": "code",
   "execution_count": 32,
   "id": "c77d0fd6",
   "metadata": {},
   "outputs": [],
   "source": [
    "result = map(addition,numbers)"
   ]
  },
  {
   "cell_type": "code",
   "execution_count": 33,
   "id": "9cec4035",
   "metadata": {},
   "outputs": [
    {
     "data": {
      "text/plain": [
       "[24, 46, 90]"
      ]
     },
     "execution_count": 33,
     "metadata": {},
     "output_type": "execute_result"
    }
   ],
   "source": [
    "list(result)"
   ]
  },
  {
   "cell_type": "markdown",
   "id": "ace14f88",
   "metadata": {},
   "source": [
    "### Filter() in python"
   ]
  },
  {
   "cell_type": "markdown",
   "id": "b4319074",
   "metadata": {},
   "source": [
    "The filter() method filters the given sequence with the help of a function that tests each element in the sequence to be true or not."
   ]
  },
  {
   "cell_type": "code",
   "execution_count": 35,
   "id": "fa3d8b63",
   "metadata": {},
   "outputs": [],
   "source": [
    "def vowels(str_list):\n",
    "    vowels =['a','e','i','o','u']\n",
    "    if str_list in vowels:\n",
    "        return True"
   ]
  },
  {
   "cell_type": "code",
   "execution_count": 36,
   "id": "1c93173b",
   "metadata": {},
   "outputs": [],
   "source": [
    "sequence = ['g', 'e', 'e', 'j', 'k', 's', 'p', 'r']"
   ]
  },
  {
   "cell_type": "code",
   "execution_count": 37,
   "id": "dc9026eb",
   "metadata": {},
   "outputs": [
    {
     "data": {
      "text/plain": [
       "<filter at 0x1f8eeee39c8>"
      ]
     },
     "execution_count": 37,
     "metadata": {},
     "output_type": "execute_result"
    }
   ],
   "source": [
    "filter(vowels,sequence)"
   ]
  },
  {
   "cell_type": "code",
   "execution_count": 38,
   "id": "f8c60a99",
   "metadata": {},
   "outputs": [
    {
     "data": {
      "text/plain": [
       "['e', 'e']"
      ]
     },
     "execution_count": 38,
     "metadata": {},
     "output_type": "execute_result"
    }
   ],
   "source": [
    "list(filter(vowels,sequence))"
   ]
  },
  {
   "cell_type": "code",
   "execution_count": null,
   "id": "2081bc17",
   "metadata": {},
   "outputs": [],
   "source": []
  }
 ],
 "metadata": {
  "kernelspec": {
   "display_name": "DL",
   "language": "python",
   "name": "dl"
  },
  "language_info": {
   "codemirror_mode": {
    "name": "ipython",
    "version": 3
   },
   "file_extension": ".py",
   "mimetype": "text/x-python",
   "name": "python",
   "nbconvert_exporter": "python",
   "pygments_lexer": "ipython3",
   "version": "3.7.11"
  }
 },
 "nbformat": 4,
 "nbformat_minor": 5
}
