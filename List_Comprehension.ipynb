{
 "cells": [
  {
   "cell_type": "code",
   "execution_count": 1,
   "id": "56d5a385",
   "metadata": {},
   "outputs": [
    {
     "data": {
      "text/plain": [
       "[1, 13, 4, 5, 63, 100]"
      ]
     },
     "execution_count": 1,
     "metadata": {},
     "output_type": "execute_result"
    }
   ],
   "source": [
    "numbers = [1,13,4,5,63,100]\n",
    "numbers"
   ]
  },
  {
   "cell_type": "code",
   "execution_count": 3,
   "id": "05881cb3",
   "metadata": {},
   "outputs": [
    {
     "data": {
      "text/plain": [
       "[1, 169, 16, 25, 3969, 10000]"
      ]
     },
     "execution_count": 3,
     "metadata": {},
     "output_type": "execute_result"
    }
   ],
   "source": [
    "[n**2 for n in numbers]"
   ]
  },
  {
   "cell_type": "code",
   "execution_count": 5,
   "id": "f04f52fa",
   "metadata": {},
   "outputs": [],
   "source": [
    "## List comprehension for multiple for loop"
   ]
  },
  {
   "cell_type": "code",
   "execution_count": 6,
   "id": "ea55e7d2",
   "metadata": {},
   "outputs": [
    {
     "data": {
      "text/plain": [
       "[0, 1, 2, 3, 1, 2, 3, 4]"
      ]
     },
     "execution_count": 6,
     "metadata": {},
     "output_type": "execute_result"
    }
   ],
   "source": [
    "[i+j for i in range(2) for j in range(4)]"
   ]
  },
  {
   "cell_type": "code",
   "execution_count": 8,
   "id": "6598d68f",
   "metadata": {},
   "outputs": [],
   "source": [
    "# Creating the multi index list comprehension"
   ]
  },
  {
   "cell_type": "code",
   "execution_count": 9,
   "id": "ce4f7fc8",
   "metadata": {},
   "outputs": [
    {
     "data": {
      "text/plain": [
       "[[0, 1], [1, 2], [2, 3], [3, 4]]"
      ]
     },
     "execution_count": 9,
     "metadata": {},
     "output_type": "execute_result"
    }
   ],
   "source": [
    "[[i+j for i in range(2)] for j in range(4)]"
   ]
  },
  {
   "cell_type": "code",
   "execution_count": 10,
   "id": "673978dd",
   "metadata": {},
   "outputs": [],
   "source": [
    "# List comprehension with if clause"
   ]
  },
  {
   "cell_type": "code",
   "execution_count": 13,
   "id": "21d4e3fc",
   "metadata": {},
   "outputs": [
    {
     "data": {
      "text/plain": [
       "[2, 4, 6, 8, 10]"
      ]
     },
     "execution_count": 13,
     "metadata": {},
     "output_type": "execute_result"
    }
   ],
   "source": [
    "[n for n in range(1,11) if n%2 == 0]"
   ]
  },
  {
   "cell_type": "code",
   "execution_count": null,
   "id": "d0dd1a02",
   "metadata": {},
   "outputs": [],
   "source": []
  },
  {
   "cell_type": "code",
   "execution_count": 14,
   "id": "69b47689",
   "metadata": {},
   "outputs": [],
   "source": [
    "# Taking the If condition to the begining of the loop"
   ]
  },
  {
   "cell_type": "code",
   "execution_count": 15,
   "id": "c8d76be2",
   "metadata": {},
   "outputs": [
    {
     "data": {
      "text/plain": [
       "['odd', 6, 'odd', 12, 'odd', 18, 'odd', 24, 'odd', 30]"
      ]
     },
     "execution_count": 15,
     "metadata": {},
     "output_type": "execute_result"
    }
   ],
   "source": [
    "[num*3 if num%2==0 else 'odd' for num in range(1,11)]"
   ]
  },
  {
   "cell_type": "code",
   "execution_count": null,
   "id": "6069efee",
   "metadata": {},
   "outputs": [],
   "source": []
  }
 ],
 "metadata": {
  "kernelspec": {
   "display_name": "DL",
   "language": "python",
   "name": "dl"
  },
  "language_info": {
   "codemirror_mode": {
    "name": "ipython",
    "version": 3
   },
   "file_extension": ".py",
   "mimetype": "text/x-python",
   "name": "python",
   "nbconvert_exporter": "python",
   "pygments_lexer": "ipython3",
   "version": "3.7.11"
  }
 },
 "nbformat": 4,
 "nbformat_minor": 5
}
