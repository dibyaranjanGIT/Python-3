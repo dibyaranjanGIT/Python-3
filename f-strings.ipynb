{
 "cells": [
  {
   "cell_type": "code",
   "execution_count": 1,
   "id": "7a64406a",
   "metadata": {},
   "outputs": [],
   "source": [
    "time_horizon=1,3,12"
   ]
  },
  {
   "cell_type": "code",
   "execution_count": 2,
   "id": "6cdb38fe",
   "metadata": {},
   "outputs": [],
   "source": [
    "products = ['Product A','Product B']"
   ]
  },
  {
   "cell_type": "code",
   "execution_count": 3,
   "id": "6935a14a",
   "metadata": {},
   "outputs": [
    {
     "data": {
      "text/plain": [
       "\"The sales for the time period (1, 3, 12) is ['Product A', 'Product B']\""
      ]
     },
     "execution_count": 3,
     "metadata": {},
     "output_type": "execute_result"
    }
   ],
   "source": [
    "f\"The sales for the time period {time_horizon} is {products}\""
   ]
  },
  {
   "cell_type": "code",
   "execution_count": 5,
   "id": "4d4b1dc8",
   "metadata": {},
   "outputs": [
    {
     "data": {
      "text/plain": [
       "'Your answer is 456'"
      ]
     },
     "execution_count": 5,
     "metadata": {},
     "output_type": "execute_result"
    }
   ],
   "source": [
    "answer = 456\n",
    "f\"Your answer is {answer}\""
   ]
  },
  {
   "cell_type": "code",
   "execution_count": null,
   "id": "ef0a5a19",
   "metadata": {},
   "outputs": [],
   "source": []
  }
 ],
 "metadata": {
  "kernelspec": {
   "display_name": "DL",
   "language": "python",
   "name": "dl"
  },
  "language_info": {
   "codemirror_mode": {
    "name": "ipython",
    "version": 3
   },
   "file_extension": ".py",
   "mimetype": "text/x-python",
   "name": "python",
   "nbconvert_exporter": "python",
   "pygments_lexer": "ipython3",
   "version": "3.7.11"
  }
 },
 "nbformat": 4,
 "nbformat_minor": 5
}
